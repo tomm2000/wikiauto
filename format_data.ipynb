{
 "cells": [
  {
   "cell_type": "code",
   "execution_count": 6,
   "metadata": {},
   "outputs": [],
   "source": [
    "from helpers.helpers import loadTrainData\n",
    "\n",
    "data = loadTrainData(\"results/main/data.json\")\n",
    "\n",
    "with open(\"results/main/iter_losses.csv\", \"w\") as f:\n",
    "  f.write(f\"x, y\\n\")\n",
    "  for i, v in enumerate(data[\"iter_losses\"]):\n",
    "    f.write(f\"{i}, {v}\\n\")\n",
    "  \n",
    "with open(\"results/main/train_losses.csv\", \"w\") as f:\n",
    "  f.write(f\"x, y\\n\")\n",
    "  for i, v in enumerate(data[\"train_losses\"]):\n",
    "    f.write(f\"{i+1}, {v}\\n\")\n",
    "\n",
    "with open(\"results/main/eval_losses.csv\", \"w\") as f:\n",
    "  f.write(f\"x, y\\n\")\n",
    "  for i, v in enumerate(data[\"eval_losses\"]):\n",
    "    f.write(f\"{i+1}, {v}\\n\")\n",
    "\n",
    "with open(\"results/main/train_perplexity.csv\", \"w\") as f:\n",
    "  f.write(f\"x, y\\n\")\n",
    "  for i, v in enumerate(data[\"train_perplexity\"]):\n",
    "    f.write(f\"{i+1}, {v}\\n\")\n",
    "\n",
    "with open(\"results/main/eval_perplexity.csv\", \"w\") as f:\n",
    "  f.write(f\"x, y\\n\")\n",
    "  for i, v in enumerate(data[\"eval_perplexity\"]):\n",
    "    f.write(f\"{i+1}, {v}\\n\")"
   ]
  }
 ],
 "metadata": {
  "kernelspec": {
   "display_name": "Python 3.9.12 ('base')",
   "language": "python",
   "name": "python3"
  },
  "language_info": {
   "codemirror_mode": {
    "name": "ipython",
    "version": 3
   },
   "file_extension": ".py",
   "mimetype": "text/x-python",
   "name": "python",
   "nbconvert_exporter": "python",
   "pygments_lexer": "ipython3",
   "version": "3.9.12"
  },
  "orig_nbformat": 4,
  "vscode": {
   "interpreter": {
    "hash": "cf21a6fff9624ce691a4fad43c68540179d36da31fc4f80138ac9dffe05c7a89"
   }
  }
 },
 "nbformat": 4,
 "nbformat_minor": 2
}
