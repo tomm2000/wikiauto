{
 "cells": [
  {
   "cell_type": "code",
   "execution_count": 88,
   "metadata": {},
   "outputs": [],
   "source": [
    "from __future__ import unicode_literals, print_function, division\n",
    "from vocab import vocab, END_TOKEN, START_TOKEN, PADDING_TOKEN, UNKNOWN_TOKEN\n",
    "from helpers import readLines\n",
    "from load_data import load_data_evaluate, load_data_training\n",
    "import torch\n",
    "import torch.nn as nn\n",
    "from torch import optim\n",
    "import torch.nn.functional as F\n",
    "import random\n",
    "import json\n",
    "\n",
    "PHRASE_SIZE = 50\n",
    "BATCH_SIZE = 5\n",
    "\n",
    "device = torch.device(\"cuda\" if torch.cuda.is_available() else \"cpu\")\n",
    "# device = \"cpu\""
   ]
  },
  {
   "cell_type": "markdown",
   "metadata": {},
   "source": [
    "# ENCODER"
   ]
  },
  {
   "cell_type": "code",
   "execution_count": 89,
   "metadata": {},
   "outputs": [],
   "source": [
    "class EncoderRNN(nn.Module):\n",
    "  def __init__(self, type_vocab, value_vocab, hidden_size, embedding_size):\n",
    "    super(EncoderRNN, self).__init__()\n",
    "    self.hidden_size = hidden_size\n",
    "\n",
    "    self.typeEmbedding = nn.Embedding(len(type_vocab), embedding_size, device=device)\n",
    "    self.valueEmbedding = nn.Embedding(len(value_vocab), embedding_size, device=device)\n",
    "    self.positionEmbedding = nn.Embedding(PHRASE_SIZE, 10, device=device)\n",
    "    \n",
    "    self.gru = nn.GRU(embedding_size * 2 + 10, self.hidden_size)\n",
    "\n",
    "  def forward(self, inputs, hidden):\n",
    "    E_type_out = self.typeEmbedding(inputs[0])\n",
    "    E_value_out = self.valueEmbedding(inputs[1])\n",
    "    E_pos_out = self.positionEmbedding(inputs[2])\n",
    "\n",
    "    output = torch.cat((E_type_out, E_pos_out, E_value_out), dim=1).view(1, BATCH_SIZE, -1)\n",
    "\n",
    "    output, hidden = self.gru(output, hidden)\n",
    "    return output, hidden\n",
    "\n",
    "  def initHidden(self):\n",
    "    return torch.zeros(1, BATCH_SIZE, self.hidden_size, device=device)"
   ]
  },
  {
   "cell_type": "markdown",
   "metadata": {},
   "source": [
    "# DECODER"
   ]
  },
  {
   "cell_type": "code",
   "execution_count": 90,
   "metadata": {},
   "outputs": [],
   "source": [
    "class DecoderRNN(nn.Module):\n",
    "  def __init__(self, hidden_size, output_size):\n",
    "    super(DecoderRNN, self).__init__()\n",
    "    self.hidden_size = hidden_size\n",
    "\n",
    "    self.embedding = nn.Embedding(output_size, hidden_size, device=device)\n",
    "    \n",
    "    self.gru = nn.GRU(hidden_size, hidden_size)\n",
    "    self.out = nn.Linear(hidden_size, output_size)\n",
    "    self.softmax = nn.LogSoftmax(dim=1)\n",
    "\n",
    "  def forward(self, input, hidden):\n",
    "    output = self.embedding(input)\n",
    "\n",
    "    output = F.relu(output)\n",
    "    \n",
    "    output, hidden = self.gru(output, hidden)\n",
    "    output = self.softmax(self.out(output[0]))\n",
    "    return output, hidden\n",
    "\n",
    "  def initHidden(self):\n",
    "    return torch.zeros(1, BATCH_SIZE, self.hidden_size, device=device)"
   ]
  },
  {
   "cell_type": "markdown",
   "metadata": {},
   "source": [
    "# ATTENTION DECODER"
   ]
  },
  {
   "cell_type": "code",
   "execution_count": 91,
   "metadata": {},
   "outputs": [],
   "source": [
    "class AttnDecoderRNN(nn.Module):\n",
    "  def __init__(self, hidden_size, output_size, dropout_p=0.1, max_length=PHRASE_SIZE):\n",
    "    super(AttnDecoderRNN, self).__init__()\n",
    "    self.hidden_size = hidden_size\n",
    "    self.output_size = output_size\n",
    "    self.dropout_p = dropout_p\n",
    "    self.max_length = max_length\n",
    "\n",
    "    self.embedding = nn.Embedding(self.output_size, self.hidden_size)\n",
    "    self.attn = nn.Linear(self.hidden_size * 2, self.max_length)\n",
    "    self.attn_combine = nn.Linear(self.hidden_size * 2, self.hidden_size)\n",
    "    self.dropout = nn.Dropout(self.dropout_p)\n",
    "    self.gru = nn.GRU(self.hidden_size, self.hidden_size)\n",
    "    self.out = nn.Linear(self.hidden_size, self.output_size)\n",
    "\n",
    "  def forward(self, input, hidden, encoder_outputs):\n",
    "    embedded = self.embedding(input).view(1, BATCH_SIZE, -1)\n",
    "    embedded = self.dropout(embedded)\n",
    "\n",
    "    # print(embedded.shape, hidden.shape)\n",
    "    # print(embedded[0].shape, hidden[0].shape)\n",
    "\n",
    "    attn_weights = F.softmax(self.attn(torch.cat((embedded[0], hidden[0]), 1)), dim=1)\n",
    "    attn_applied = torch.bmm(attn_weights.unsqueeze(0), encoder_outputs.unsqueeze(0))\n",
    "\n",
    "    output = torch.cat((embedded[0], attn_applied[0]), 1)\n",
    "    output = self.attn_combine(output).unsqueeze(0)\n",
    "\n",
    "    output = F.relu(output)\n",
    "    output, hidden = self.gru(output, hidden)\n",
    "\n",
    "    output = F.log_softmax(self.out(output[0]), dim=1)\n",
    "    return output, hidden, attn_weights\n",
    "\n",
    "  def initHidden(self):\n",
    "    return torch.zeros(1, 1, self.hidden_size, device=device)"
   ]
  },
  {
   "cell_type": "markdown",
   "metadata": {},
   "source": [
    "# TIMING & PLOT"
   ]
  },
  {
   "cell_type": "code",
   "execution_count": 102,
   "metadata": {},
   "outputs": [],
   "source": [
    "import time\n",
    "import math\n",
    "\n",
    "def asMinutes(s):\n",
    "  m = math.floor(s / 60)\n",
    "  s -= m * 60\n",
    "  return '%dm %ds' % (m, s)\n",
    "\n",
    "\n",
    "def timeSince(since, percent):\n",
    "  now = time.time()\n",
    "  s = now - since\n",
    "  es = s / (percent)\n",
    "  rs = es - s\n",
    "  return '%s (- %s)' % (asMinutes(s), asMinutes(rs))\n",
    "\n",
    "\n",
    "import matplotlib.pyplot as plt\n",
    "import matplotlib.ticker as ticker\n",
    "import numpy as np\n",
    "\n",
    "def showPlot(points):\n",
    "  plt.figure()\n",
    "  fig, ax = plt.subplots()\n",
    "  # this locator puts ticks at regular intervals\n",
    "  loc = ticker.MultipleLocator(base=0.05)\n",
    "  ax.yaxis.set_major_locator(loc)\n",
    "  plt.plot(points)\n",
    "  plt.show()"
   ]
  },
  {
   "cell_type": "markdown",
   "metadata": {},
   "source": [
    "# INPUT"
   ]
  },
  {
   "cell_type": "code",
   "execution_count": 93,
   "metadata": {},
   "outputs": [
    {
     "name": "stdout",
     "output_type": "stream",
     "text": [
      "selected 100 pairs out of 78523 available\n",
      "------------------------\n",
      "loading data: 10/100 (10%)\n",
      "loading data: 20/100 (20%)\n",
      "loading data: 30/100 (30%)\n",
      "loading data: 40/100 (40%)\n",
      "loading data: 50/100 (50%)\n",
      "loading data: 60/100 (60%)\n",
      "loading data: 70/100 (70%)\n",
      "loading data: 80/100 (80%)\n",
      "loading data: 90/100 (90%)\n",
      "loading data: 100/100 (100%)\n",
      "------------------------\n",
      "pairs:  100\n",
      "batch size: 5, phrase size: 50\n",
      "input shape:  torch.Size([3, 5, 50])\n",
      "output shape:  torch.Size([5, 50])\n"
     ]
    }
   ],
   "source": [
    "type_vocab, value_vocab, token_vocab, pairs = load_data_training(torch, device, 50000, BATCH_SIZE, PHRASE_SIZE, 100)"
   ]
  },
  {
   "cell_type": "code",
   "execution_count": 94,
   "metadata": {},
   "outputs": [
    {
     "name": "stdout",
     "output_type": "stream",
     "text": [
      "a very tall man <UNK> / 6' <UNK> nicholas, named after his paternal grandfather, the emperor, was born as the eldest son to grand duke nicholas <UNK> of russia <UNK> and alexandra <UNK> of oldenburg <UNK> on 18 november 1856. his father was the sixth child and third son <EOS> \n",
      "<UNK> scored two goals in the final of the 2013 coupe de france to help bordeaux defeat evian <UNK> 3-2. <UNK> had an excellent 2013-14 ligue 1 season with bordeaux, registering 12 goals in 25 ligue 1 matches and scoring in a 1-1 away draw against toulouse fc, one <EOS> \n",
      "this large <UNK> earns its common name from its dark <UNK> <UNK> <UNK> which perfectly <UNK> it against the <UNK> <UNK> <UNK> upon which it <UNK> <UNK> its body is primarily black, but features brown markings along its long, slender <UNK> it is particularly at the <UNK> between segments, <EOS> \n",
      "the varied habitats support a wide variety of bird species, 34 of which occur in the <UNK> areas alone. species of note include the <UNK> <UNK> eastern ground <UNK> little <UNK> and endangered eastern <UNK> the reserve lies within the <UNK> to <UNK> inlet important bird area, so identified <EOS> \n",
      "the de <UNK> bluff <UNK> is a historic public water supply facility at <UNK> and hazel streets in de <UNK> bluff, arkansas. it contains a <UNK> elevated steel water tower, built in 1936 by the <UNK> moines steel company in conjunction with the public works administration as part of <EOS> \n"
     ]
    }
   ],
   "source": [
    "test = pairs[0]\n",
    "target = test[1]\n",
    "\n",
    "for sentence in target:\n",
    "  s = \"\"\n",
    "  for word in sentence:\n",
    "    s += token_vocab.getWord(word.item()) + \" \"\n",
    "  print(s)\n",
    "  "
   ]
  },
  {
   "cell_type": "markdown",
   "metadata": {},
   "source": [
    "# TRAINING"
   ]
  },
  {
   "cell_type": "code",
   "execution_count": 95,
   "metadata": {},
   "outputs": [],
   "source": [
    "teacher_forcing_ratio = 0.5\n",
    "\n",
    "# NOTE: inputs are (1, BATCH_SIZE)\n",
    "\n",
    "def train(input_tensor, target_tensor, encoder, decoder, encoder_optimizer, decoder_optimizer, criterion):\n",
    "  encoder_hidden = encoder.initHidden()\n",
    "\n",
    "  encoder_optimizer.zero_grad()\n",
    "  decoder_optimizer.zero_grad()\n",
    "\n",
    "  input_length = input_tensor.size(2) # == PHRASE_SIZE\n",
    "  target_length = target_tensor.size(1)\n",
    "\n",
    "  # NOTE: attention\n",
    "  encoder_outputs = torch.zeros(PHRASE_SIZE, encoder.hidden_size, device=device)\n",
    "\n",
    "  loss = 0\n",
    "\n",
    "  for i in range(input_length):\n",
    "    encoder_output, encoder_hidden = encoder(input_tensor[:,:,i], encoder_hidden)\n",
    "    # NOTE: attention\n",
    "    encoder_outputs[i] = encoder_output[0, 0]\n",
    "\n",
    "  decoder_input = torch.tensor([[type_vocab.getID(START_TOKEN)] for _ in range(BATCH_SIZE)], device=device)\n",
    "  decoder_input = decoder_input.view(1, BATCH_SIZE)\n",
    "\n",
    "  decoder_hidden = encoder_hidden\n",
    "\n",
    "  use_teacher_forcing = True if random.random() < teacher_forcing_ratio else False\n",
    "  # use_teacher_forcing = True\n",
    "\n",
    "  if use_teacher_forcing:\n",
    "    # Teacher forcing: Feed the target as the next input\n",
    "    for di in range(target_length):\n",
    "      # NOTE: attention\n",
    "      decoder_output, decoder_hidden, decoder_attention = decoder(decoder_input, decoder_hidden, encoder_outputs)\n",
    "      # decoder_output, decoder_hidden = decoder(decoder_input, decoder_hidden)\n",
    "      loss += criterion(decoder_output, target_tensor[:,di])\n",
    "      decoder_input = target_tensor[:, di].view(1, BATCH_SIZE)  # Teacher forcing\n",
    "      \n",
    "  else:\n",
    "    # Without teacher forcing: use its own predictions as the next input\n",
    "    for di in range(target_length):\n",
    "      # NOTE: attention\n",
    "      decoder_output, decoder_hidden, decoder_attention = decoder(decoder_input, decoder_hidden, encoder_outputs)\n",
    "      # decoder_output, decoder_hidden = decoder(decoder_input, decoder_hidden)\n",
    "      topv, topi = decoder_output.topk(1)\n",
    "      decoder_input = topi.squeeze().detach().view(1, BATCH_SIZE)  # detach from history as input\n",
    "\n",
    "      loss += criterion(decoder_output, target_tensor[:,di])\n",
    "\n",
    "  # loss.backward()\n",
    "  loss = loss / target_length\n",
    "  # loss = loss / BATCH_SIZE\n",
    "  loss.backward()\n",
    "\n",
    "  encoder_optimizer.step()\n",
    "  decoder_optimizer.step()\n",
    "\n",
    "  return loss.item() / target_length"
   ]
  },
  {
   "cell_type": "code",
   "execution_count": 96,
   "metadata": {},
   "outputs": [],
   "source": [
    "def trainIters(encoder, decoder, n_iters, print_every=1000, plot_every=100, learning_rate=5e-5):\n",
    "  start = time.time()\n",
    "  plot_losses = []\n",
    "  print_loss_total = 0  # Reset every print_every\n",
    "  plot_loss_total = 0  # Reset every plot_every\n",
    "\n",
    "  encoder_optimizer = optim.Adam(encoder.parameters(), lr=learning_rate)\n",
    "  decoder_optimizer = optim.Adam(decoder.parameters(), lr=learning_rate)\n",
    "  training_pairs = [random.choice(pairs) for i in range(n_iters)]\n",
    "  criterion = nn.NLLLoss()\n",
    "\n",
    "  for iter in range(1, n_iters + 1):\n",
    "    training_pair = training_pairs[iter - 1]\n",
    "    input_tensor = training_pair[0]\n",
    "    target_tensor = training_pair[1]\n",
    "\n",
    "    loss = train(input_tensor, target_tensor, encoder, decoder, encoder_optimizer, decoder_optimizer, criterion)\n",
    "    print_loss_total += loss\n",
    "    plot_loss_total += loss\n",
    "\n",
    "    if iter % print_every == 0:\n",
    "      print_loss_avg = print_loss_total / print_every\n",
    "      print_loss_total = 0\n",
    "      print('%s (%d %d%%) %.4f' % (timeSince(start, iter / n_iters),\n",
    "                                      iter, iter / n_iters * 100, print_loss_avg))\n",
    "\n",
    "    if iter % plot_every == 0:\n",
    "      plot_loss_avg = plot_loss_total / plot_every\n",
    "      plot_losses.append(plot_loss_avg)\n",
    "      plot_loss_total = 0\n",
    "\n",
    "  \n",
    "  showPlot(plot_losses)\n"
   ]
  },
  {
   "cell_type": "code",
   "execution_count": 97,
   "metadata": {},
   "outputs": [],
   "source": [
    "\n",
    "encoder = EncoderRNN(type_vocab, value_vocab, 256, 128).to(device)\n",
    "# decoder = DecoderRNN(256, len(token_vocab)).to(device)\n",
    "decoder = AttnDecoderRNN(256, len(token_vocab)).to(device)\n",
    "\n",
    "# ITERS = 200000\n",
    "# trainIters(encoder, decoder, ITERS, print_every=ITERS/10, plot_every=ITERS/100)"
   ]
  },
  {
   "cell_type": "markdown",
   "metadata": {},
   "source": [
    "# EVALUATION"
   ]
  },
  {
   "cell_type": "code",
   "execution_count": 98,
   "metadata": {},
   "outputs": [],
   "source": [
    "# FIXME: not implemented yet\n",
    "def evaluate(encoder, decoder, input_tensor, max_length=PHRASE_SIZE):\n",
    "  with torch.no_grad():\n",
    "    input_length = input_tensor.size(2) # == max_length\n",
    "    encoder_hidden = encoder.initHidden()\n",
    "\n",
    "    encoder_outputs = torch.zeros(max_length, encoder.hidden_size, device=device)\n",
    "\n",
    "    for ei in range(input_length):\n",
    "      encoder_output, encoder_hidden = encoder(input_tensor[:,:,ei], encoder_hidden)\n",
    "      encoder_outputs[ei] += encoder_output[0, 0]\n",
    "\n",
    "    decoder_input = torch.tensor([[type_vocab.getID(START_TOKEN)] for _ in range(BATCH_SIZE)], device=device)\n",
    "    decoder_input = decoder_input.view(1, BATCH_SIZE)\n",
    "\n",
    "    decoder_hidden = encoder_hidden\n",
    "\n",
    "    decoded_words = [[] for _ in range(BATCH_SIZE)]\n",
    "    decoder_attentions = torch.zeros(max_length, max_length)\n",
    "\n",
    "    for di in range(max_length):\n",
    "      decoder_output, decoder_hidden, decoder_attention = decoder(decoder_input, decoder_hidden, encoder_outputs)\n",
    "      \n",
    "      # TODO: decoder attention\n",
    "      # decoder_attentions[di] = decoder_attention.data\n",
    "      topv, topi = decoder_output.data.topk(1)\n",
    "\n",
    "      # TODO: end tokens dopo fine della frase\n",
    "      for i in range(BATCH_SIZE):\n",
    "        decoded_words[i].append(token_vocab.getWord(topi[i].item()))\n",
    "\n",
    "      decoder_input = topi.squeeze().detach().view(1, BATCH_SIZE)  # detach from history as input\n",
    "\n",
    "    return decoded_words, decoder_attentions[:di + 1]"
   ]
  },
  {
   "cell_type": "code",
   "execution_count": 99,
   "metadata": {},
   "outputs": [
    {
     "name": "stdout",
     "output_type": "stream",
     "text": [
      "selected 10 pairs out of 10 available\n",
      "------------------------\n",
      "loading data: 1/10 (10%)\n",
      "loading data: 2/10 (20%)\n",
      "loading data: 3/10 (30%)\n",
      "loading data: 4/10 (40%)\n",
      "loading data: 5/10 (50%)\n",
      "loading data: 6/10 (60%)\n",
      "loading data: 7/10 (70%)\n",
      "loading data: 8/10 (80%)\n",
      "loading data: 9/10 (90%)\n",
      "loading data: 10/10 (100%)\n",
      "------------------------\n",
      "pairs:  10\n",
      "batch size: 5, phrase size: 50\n",
      "input shape:  torch.Size([3, 5, 50])\n"
     ]
    }
   ],
   "source": [
    "inputs = load_data_evaluate(torch, device, type_vocab, value_vocab, BATCH_SIZE, PHRASE_SIZE, 10)"
   ]
  },
  {
   "cell_type": "code",
   "execution_count": 100,
   "metadata": {},
   "outputs": [],
   "source": [
    "# print(len(inputs))\n",
    "\n",
    "# print(inputs[0].shape)\n",
    "\n",
    "# outputs, attn = evaluate(encoder, decoder, inputs[0])\n",
    "\n",
    "# for phrase in outputs:\n",
    "#   print(\"----------------------\")\n",
    "#   s = \"\"\n",
    "#   for word in phrase:\n",
    "#     s += \" \" + str(word)\n",
    "#   print(s)\n",
    "\n",
    "# PAIRS TEST\n",
    "# test = pairs[0][1]\n",
    "# print(test[0])\n",
    "\n",
    "# for phrase in test:\n",
    "#   s = \"\"\n",
    "#   for word in phrase:\n",
    "#     s += \" \" + token_vocab.getWord(word.item())\n",
    "\n",
    "#   print(s)\n",
    "\n",
    "# EVAL INPUT TEST\n",
    "# test = inputs[0]\n",
    "# print(test.shape)\n",
    "# print(\"----------------------\")\n",
    "\n",
    "# for phrase in test[0]:\n",
    "#   s = \"\"\n",
    "#   for word in phrase:\n",
    "#     s += \" | \" + type_vocab.getWord(word.item()) + \" [\" + str(word.item()) + \"]\"\n",
    "#   print(s)\n",
    "\n",
    "# print(\"----------------------\")\n",
    "\n",
    "# for phrase in test[1]:\n",
    "#   s = \"\"\n",
    "#   for word in phrase:\n",
    "#     s += \" | \" + value_vocab.getWord(word.item()) + \" [\" + str(word.item()) + \"]\"\n",
    "#   print(s)"
   ]
  },
  {
   "cell_type": "code",
   "execution_count": 104,
   "metadata": {},
   "outputs": [
    {
     "name": "stdout",
     "output_type": "stream",
     "text": [
      "=================================\n",
      "\n",
      "0m 15s (- 0m 15s) (50 50%) 0.1388\n",
      "0m 30s (- 0m 0s) (100 100%) 0.1367\n"
     ]
    },
    {
     "data": {
      "text/plain": [
       "<Figure size 432x288 with 0 Axes>"
      ]
     },
     "metadata": {},
     "output_type": "display_data"
    },
    {
     "data": {
      "image/png": "[encoded data removed]",
      "text/plain": [
       "<Figure size 432x288 with 1 Axes>"
      ]
     },
     "metadata": {
      "needs_background": "light"
     },
     "output_type": "display_data"
    },
    {
     "name": "stdout",
     "output_type": "stream",
     "text": [
      "----------------------\n",
      " <UNK> <UNK> <UNK> <UNK> <UNK> <UNK> <UNK> <UNK> <UNK> <UNK> <UNK> <UNK> <UNK> <UNK> <UNK> <UNK> <UNK> <UNK> <UNK> <UNK> <UNK> <UNK> <UNK> <UNK> <UNK> <UNK> <UNK> <UNK> <UNK> <UNK> <UNK> <UNK> <UNK> <UNK> <UNK> <UNK> <UNK> <UNK> <UNK> <UNK> <UNK> <UNK> <UNK> <UNK> <UNK> <UNK> <UNK> <UNK> <UNK> <UNK>\n",
      "----------------------\n",
      " <UNK> <UNK> <UNK> <UNK> <UNK> <UNK> <UNK> <UNK> <UNK> <UNK> <UNK> <UNK> <UNK> <UNK> <UNK> <UNK> <UNK> <UNK> <UNK> <UNK> <UNK> <UNK> <UNK> <UNK> <UNK> <UNK> <UNK> <UNK> <UNK> <UNK> <UNK> <UNK> <UNK> <UNK> <UNK> <UNK> <UNK> <UNK> <UNK> <UNK> <UNK> <UNK> <UNK> <UNK> <UNK> <UNK> <UNK> <UNK> <UNK> <UNK>\n",
      "----------------------\n",
      " <UNK> <UNK> <UNK> <UNK> <UNK> <UNK> <UNK> <UNK> <UNK> <UNK> <UNK> <UNK> <UNK> <UNK> <UNK> <UNK> <UNK> <UNK> <UNK> <UNK> <UNK> <UNK> <UNK> <UNK> <UNK> <UNK> <UNK> <UNK> <UNK> <UNK> <UNK> <UNK> <UNK> <UNK> <UNK> <UNK> <UNK> <UNK> <UNK> <UNK> <UNK> <UNK> <UNK> <UNK> <UNK> <UNK> <UNK> <UNK> <UNK> <UNK>\n",
      "----------------------\n",
      " <UNK> <UNK> <UNK> <UNK> <UNK> <UNK> <UNK> <UNK> <UNK> <UNK> <UNK> <UNK> <UNK> <UNK> <UNK> <UNK> <UNK> <UNK> <UNK> <UNK> <UNK> <UNK> <UNK> <UNK> <UNK> <UNK> <UNK> <UNK> <UNK> <UNK> <UNK> <UNK> <UNK> <UNK> <UNK> <UNK> <UNK> <UNK> <UNK> <UNK> <UNK> <UNK> <UNK> <UNK> <UNK> <UNK> <UNK> <UNK> <UNK> <UNK>\n",
      "----------------------\n",
      " <UNK> <UNK> <UNK> <UNK> <UNK> <UNK> <UNK> <UNK> <UNK> <UNK> <UNK> <UNK> <UNK> <UNK> <UNK> <UNK> <UNK> <UNK> <UNK> <UNK> <UNK> <UNK> <UNK> <UNK> <UNK> <UNK> <UNK> <UNK> <UNK> <UNK> <UNK> <UNK> <UNK> <UNK> <UNK> <UNK> <UNK> <UNK> <UNK> <UNK> <UNK> <UNK> <UNK> <UNK> <UNK> <UNK> <UNK> <UNK> <UNK> <UNK>\n",
      "=================================\n",
      "\n"
     ]
    },
    {
     "ename": "KeyboardInterrupt",
     "evalue": "",
     "output_type": "error",
     "traceback": [
      "\u001b[1;31m---------------------------------------------------------------------------\u001b[0m",
      "\u001b[1;31mKeyboardInterrupt\u001b[0m                         Traceback (most recent call last)",
      "\u001b[1;32mc:\\Users\\tomma\\PROGRAMMING_C\\PYTORCH\\wikiauto3\\model.ipynb Cell 21\u001b[0m in \u001b[0;36m<cell line: 6>\u001b[1;34m()\u001b[0m\n\u001b[0;32m      <a href='vscode-notebook-cell:/c%3A/Users/tomma/PROGRAMMING_C/PYTORCH/wikiauto3/model.ipynb#X30sZmlsZQ%3D%3D?line=5'>6</a>\u001b[0m \u001b[39mfor\u001b[39;00m i \u001b[39min\u001b[39;00m \u001b[39mrange\u001b[39m(\u001b[39m10\u001b[39m):\n\u001b[0;32m      <a href='vscode-notebook-cell:/c%3A/Users/tomma/PROGRAMMING_C/PYTORCH/wikiauto3/model.ipynb#X30sZmlsZQ%3D%3D?line=6'>7</a>\u001b[0m   \u001b[39mprint\u001b[39m(\u001b[39m\"\u001b[39m\u001b[39m=================================\u001b[39m\u001b[39m\\n\u001b[39;00m\u001b[39m\"\u001b[39m)\n\u001b[1;32m----> <a href='vscode-notebook-cell:/c%3A/Users/tomma/PROGRAMMING_C/PYTORCH/wikiauto3/model.ipynb#X30sZmlsZQ%3D%3D?line=7'>8</a>\u001b[0m   trainIters(encoder, decoder, ITERS, print_every\u001b[39m=\u001b[39;49mITERS\u001b[39m/\u001b[39;49m\u001b[39m2\u001b[39;49m, plot_every\u001b[39m=\u001b[39;49mITERS\u001b[39m/\u001b[39;49m\u001b[39m100\u001b[39;49m)\n\u001b[0;32m      <a href='vscode-notebook-cell:/c%3A/Users/tomma/PROGRAMMING_C/PYTORCH/wikiauto3/model.ipynb#X30sZmlsZQ%3D%3D?line=8'>9</a>\u001b[0m   outputs, _ \u001b[39m=\u001b[39m evaluate(encoder, decoder, test_input)\n\u001b[0;32m     <a href='vscode-notebook-cell:/c%3A/Users/tomma/PROGRAMMING_C/PYTORCH/wikiauto3/model.ipynb#X30sZmlsZQ%3D%3D?line=10'>11</a>\u001b[0m   \u001b[39mfor\u001b[39;00m phrase \u001b[39min\u001b[39;00m outputs:\n",
      "\u001b[1;32mc:\\Users\\tomma\\PROGRAMMING_C\\PYTORCH\\wikiauto3\\model.ipynb Cell 21\u001b[0m in \u001b[0;36mtrainIters\u001b[1;34m(encoder, decoder, n_iters, print_every, plot_every, learning_rate)\u001b[0m\n\u001b[0;32m     <a href='vscode-notebook-cell:/c%3A/Users/tomma/PROGRAMMING_C/PYTORCH/wikiauto3/model.ipynb#X30sZmlsZQ%3D%3D?line=13'>14</a>\u001b[0m input_tensor \u001b[39m=\u001b[39m training_pair[\u001b[39m0\u001b[39m]\n\u001b[0;32m     <a href='vscode-notebook-cell:/c%3A/Users/tomma/PROGRAMMING_C/PYTORCH/wikiauto3/model.ipynb#X30sZmlsZQ%3D%3D?line=14'>15</a>\u001b[0m target_tensor \u001b[39m=\u001b[39m training_pair[\u001b[39m1\u001b[39m]\n\u001b[1;32m---> <a href='vscode-notebook-cell:/c%3A/Users/tomma/PROGRAMMING_C/PYTORCH/wikiauto3/model.ipynb#X30sZmlsZQ%3D%3D?line=16'>17</a>\u001b[0m loss \u001b[39m=\u001b[39m train(input_tensor, target_tensor, encoder, decoder, encoder_optimizer, decoder_optimizer, criterion)\n\u001b[0;32m     <a href='vscode-notebook-cell:/c%3A/Users/tomma/PROGRAMMING_C/PYTORCH/wikiauto3/model.ipynb#X30sZmlsZQ%3D%3D?line=17'>18</a>\u001b[0m print_loss_total \u001b[39m+\u001b[39m\u001b[39m=\u001b[39m loss\n\u001b[0;32m     <a href='vscode-notebook-cell:/c%3A/Users/tomma/PROGRAMMING_C/PYTORCH/wikiauto3/model.ipynb#X30sZmlsZQ%3D%3D?line=18'>19</a>\u001b[0m plot_loss_total \u001b[39m+\u001b[39m\u001b[39m=\u001b[39m loss\n",
      "\u001b[1;32mc:\\Users\\tomma\\PROGRAMMING_C\\PYTORCH\\wikiauto3\\model.ipynb Cell 21\u001b[0m in \u001b[0;36mtrain\u001b[1;34m(input_tensor, target_tensor, encoder, decoder, encoder_optimizer, decoder_optimizer, criterion)\u001b[0m\n\u001b[0;32m     <a href='vscode-notebook-cell:/c%3A/Users/tomma/PROGRAMMING_C/PYTORCH/wikiauto3/model.ipynb#X30sZmlsZQ%3D%3D?line=52'>53</a>\u001b[0m loss \u001b[39m=\u001b[39m loss \u001b[39m/\u001b[39m target_length\n\u001b[0;32m     <a href='vscode-notebook-cell:/c%3A/Users/tomma/PROGRAMMING_C/PYTORCH/wikiauto3/model.ipynb#X30sZmlsZQ%3D%3D?line=53'>54</a>\u001b[0m \u001b[39m# loss = loss / BATCH_SIZE\u001b[39;00m\n\u001b[1;32m---> <a href='vscode-notebook-cell:/c%3A/Users/tomma/PROGRAMMING_C/PYTORCH/wikiauto3/model.ipynb#X30sZmlsZQ%3D%3D?line=54'>55</a>\u001b[0m loss\u001b[39m.\u001b[39;49mbackward()\n\u001b[0;32m     <a href='vscode-notebook-cell:/c%3A/Users/tomma/PROGRAMMING_C/PYTORCH/wikiauto3/model.ipynb#X30sZmlsZQ%3D%3D?line=56'>57</a>\u001b[0m encoder_optimizer\u001b[39m.\u001b[39mstep()\n\u001b[0;32m     <a href='vscode-notebook-cell:/c%3A/Users/tomma/PROGRAMMING_C/PYTORCH/wikiauto3/model.ipynb#X30sZmlsZQ%3D%3D?line=57'>58</a>\u001b[0m decoder_optimizer\u001b[39m.\u001b[39mstep()\n",
      "File \u001b[1;32md:\\PROGRAM_INSTALL\\Anaconda\\lib\\site-packages\\torch\\_tensor.py:396\u001b[0m, in \u001b[0;36mTensor.backward\u001b[1;34m(self, gradient, retain_graph, create_graph, inputs)\u001b[0m\n\u001b[0;32m    387\u001b[0m \u001b[39mif\u001b[39;00m has_torch_function_unary(\u001b[39mself\u001b[39m):\n\u001b[0;32m    388\u001b[0m     \u001b[39mreturn\u001b[39;00m handle_torch_function(\n\u001b[0;32m    389\u001b[0m         Tensor\u001b[39m.\u001b[39mbackward,\n\u001b[0;32m    390\u001b[0m         (\u001b[39mself\u001b[39m,),\n\u001b[1;32m   (...)\u001b[0m\n\u001b[0;32m    394\u001b[0m         create_graph\u001b[39m=\u001b[39mcreate_graph,\n\u001b[0;32m    395\u001b[0m         inputs\u001b[39m=\u001b[39minputs)\n\u001b[1;32m--> 396\u001b[0m torch\u001b[39m.\u001b[39;49mautograd\u001b[39m.\u001b[39;49mbackward(\u001b[39mself\u001b[39;49m, gradient, retain_graph, create_graph, inputs\u001b[39m=\u001b[39;49minputs)\n",
      "File \u001b[1;32md:\\PROGRAM_INSTALL\\Anaconda\\lib\\site-packages\\torch\\autograd\\__init__.py:173\u001b[0m, in \u001b[0;36mbackward\u001b[1;34m(tensors, grad_tensors, retain_graph, create_graph, grad_variables, inputs)\u001b[0m\n\u001b[0;32m    168\u001b[0m     retain_graph \u001b[39m=\u001b[39m create_graph\n\u001b[0;32m    170\u001b[0m \u001b[39m# The reason we repeat same the comment below is that\u001b[39;00m\n\u001b[0;32m    171\u001b[0m \u001b[39m# some Python versions print out the first line of a multi-line function\u001b[39;00m\n\u001b[0;32m    172\u001b[0m \u001b[39m# calls in the traceback and some print out the last line\u001b[39;00m\n\u001b[1;32m--> 173\u001b[0m Variable\u001b[39m.\u001b[39;49m_execution_engine\u001b[39m.\u001b[39;49mrun_backward(  \u001b[39m# Calls into the C++ engine to run the backward pass\u001b[39;49;00m\n\u001b[0;32m    174\u001b[0m     tensors, grad_tensors_, retain_graph, create_graph, inputs,\n\u001b[0;32m    175\u001b[0m     allow_unreachable\u001b[39m=\u001b[39;49m\u001b[39mTrue\u001b[39;49;00m, accumulate_grad\u001b[39m=\u001b[39;49m\u001b[39mTrue\u001b[39;49;00m)\n",
      "\u001b[1;31mKeyboardInterrupt\u001b[0m: "
     ]
    }
   ],
   "source": [
    "ITERS = 20000\n",
    "\n",
    "test_input = pairs[0][0]\n",
    "\n",
    "for i in range(10):\n",
    "  print(\"=================================\\n\")\n",
    "  trainIters(encoder, decoder, ITERS, print_every=ITERS/2, plot_every=ITERS/100)\n",
    "  outputs, _ = evaluate(encoder, decoder, test_input)\n",
    "\n",
    "  for phrase in outputs:\n",
    "    print(\"----------------------\")\n",
    "    s = \"\"\n",
    "    for word in phrase:\n",
    "      s += \" \" + str(word)\n",
    "    print(s)"
   ]
  }
 ],
 "metadata": {
  "kernelspec": {
   "display_name": "Python 3.9.12 ('base')",
   "language": "python",
   "name": "python3"
  },
  "language_info": {
   "codemirror_mode": {
    "name": "ipython",
    "version": 3
   },
   "file_extension": ".py",
   "mimetype": "text/x-python",
   "name": "python",
   "nbconvert_exporter": "python",
   "pygments_lexer": "ipython3",
   "version": "3.9.12"
  },
  "orig_nbformat": 4,
  "vscode": {
   "interpreter": {
    "hash": "cf21a6fff9624ce691a4fad43c68540179d36da31fc4f80138ac9dffe05c7a89"
   }
  }
 },
 "nbformat": 4,
 "nbformat_minor": 2
}
