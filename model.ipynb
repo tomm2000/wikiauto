{
 "cells": [
  {
   "cell_type": "code",
   "execution_count": 178,
   "metadata": {},
   "outputs": [],
   "source": [
    "from __future__ import unicode_literals, print_function, division\n",
    "from vocab import vocab, END_TOKEN, START_TOKEN, PADDING_TOKEN, UNKNOWN_TOKEN\n",
    "from helpers import readLines\n",
    "\n",
    "type_vocab = vocab('data/counts/types.txt')\n",
    "value_vocab = vocab('data/counts/values.txt')\n",
    "token_vocab = vocab('data/counts/tokens.txt')\n",
    "\n",
    "PHRASE_SIZE = 100\n",
    "BATCH_SIZE = 10"
   ]
  },
  {
   "cell_type": "code",
   "execution_count": 167,
   "metadata": {},
   "outputs": [],
   "source": [
    "import torch\n",
    "import torch.nn as nn\n",
    "from torch import optim\n",
    "import torch.nn.functional as F\n",
    "import random\n",
    "import json\n",
    "\n",
    "device = torch.device(\"cuda\" if torch.cuda.is_available() else \"cpu\")\n",
    "# device = \"cpu\""
   ]
  },
  {
   "cell_type": "markdown",
   "metadata": {},
   "source": [
    "# ENCODER"
   ]
  },
  {
   "cell_type": "code",
   "execution_count": 188,
   "metadata": {},
   "outputs": [],
   "source": [
    "class EncoderRNN(nn.Module):\n",
    "  def __init__(self, type_vocab, value_vocab, hidden_size, embedding_size):\n",
    "    super(EncoderRNN, self).__init__()\n",
    "    self.hidden_size = hidden_size\n",
    "\n",
    "    self.typeEmbedding = nn.Embedding(len(type_vocab), embedding_size, device=device)\n",
    "    self.valueEmbedding = nn.Embedding(len(value_vocab), embedding_size, device=device)\n",
    "    self.positionEmbedding = nn.Embedding(PHRASE_SIZE, 10, device=device)\n",
    "    \n",
    "    self.gru = nn.GRU(embedding_size * 2 + 10, self.hidden_size)\n",
    "\n",
    "  def forward(self, inputs, hidden):\n",
    "    E_type_out = self.typeEmbedding(inputs[0])\n",
    "    E_value_out = self.valueEmbedding(inputs[1])\n",
    "    E_pos_out = self.positionEmbedding(inputs[2])\n",
    "\n",
    "    output = torch.cat((E_type_out, E_pos_out, E_value_out), dim=1).view(1, BATCH_SIZE, -1)\n",
    "\n",
    "    output, hidden = self.gru(output, hidden)\n",
    "    return output, hidden\n",
    "\n",
    "  def initHidden(self):\n",
    "    return torch.zeros(1, BATCH_SIZE, self.hidden_size, device=device)"
   ]
  },
  {
   "cell_type": "markdown",
   "metadata": {},
   "source": [
    "# DECODER"
   ]
  },
  {
   "cell_type": "code",
   "execution_count": 189,
   "metadata": {},
   "outputs": [],
   "source": [
    "class DecoderRNN(nn.Module):\n",
    "  def __init__(self, hidden_size, output_size):\n",
    "    super(DecoderRNN, self).__init__()\n",
    "    self.hidden_size = hidden_size\n",
    "\n",
    "    self.embedding = nn.Embedding(output_size, hidden_size, device=device)\n",
    "    \n",
    "    self.gru = nn.GRU(hidden_size, hidden_size)\n",
    "    self.out = nn.Linear(hidden_size, output_size)\n",
    "    self.softmax = nn.LogSoftmax(dim=1)\n",
    "\n",
    "  def forward(self, input, hidden):\n",
    "    output = self.embedding(input)\n",
    "\n",
    "    output = F.relu(output)\n",
    "    \n",
    "    output, hidden = self.gru(output, hidden)\n",
    "    output = self.softmax(self.out(output[0]))\n",
    "    return output, hidden\n",
    "\n",
    "  def initHidden(self):\n",
    "    return torch.zeros(1, BATCH_SIZE, self.hidden_size, device=device)"
   ]
  },
  {
   "cell_type": "markdown",
   "metadata": {},
   "source": [
    "# TIMING"
   ]
  },
  {
   "cell_type": "code",
   "execution_count": 170,
   "metadata": {},
   "outputs": [],
   "source": [
    "import time\n",
    "import math\n",
    "\n",
    "\n",
    "def asMinutes(s):\n",
    "  m = math.floor(s / 60)\n",
    "  s -= m * 60\n",
    "  return '%dm %ds' % (m, s)\n",
    "\n",
    "\n",
    "def timeSince(since, percent):\n",
    "  now = time.time()\n",
    "  s = now - since\n",
    "  es = s / (percent)\n",
    "  rs = es - s\n",
    "  return '%s (- %s)' % (asMinutes(s), asMinutes(rs))"
   ]
  },
  {
   "cell_type": "markdown",
   "metadata": {},
   "source": [
    "# INPUT"
   ]
  },
  {
   "cell_type": "code",
   "execution_count": 185,
   "metadata": {},
   "outputs": [
    {
     "name": "stdout",
     "output_type": "stream",
     "text": [
      "Loading tables...\n",
      "Loading articles...\n",
      "tables:  883980\n",
      "articles:  394175\n"
     ]
    }
   ],
   "source": [
    "# TODO: add infobox\n",
    "\n",
    "articles_tables = {}\n",
    "articles_text = {}\n",
    "pairs = {}\n",
    "\n",
    "POSITIONS = [i for i in range(PHRASE_SIZE)]\n",
    "\n",
    "print('Loading tables...')\n",
    "\n",
    "for line in readLines('data/clean/wikidata.json', -1):\n",
    "  json_line = json.loads(line)\n",
    "  KEY = json_line['article']\n",
    "  # line = {'article': TEXT, 'data': {'type': [values, ...]}}\n",
    "  \n",
    "  VALUE = ( [], [] )\n",
    "  i = 0\n",
    "  for type in json_line['data']:\n",
    "    for value in json_line['data'][type]:\n",
    "      if i >= PHRASE_SIZE:\n",
    "        break\n",
    "      VALUE[0].append(type_vocab.getID(type))\n",
    "      VALUE[1].append(value_vocab.getID(value))\n",
    "      i += 1\n",
    "\n",
    "  while(len(VALUE[0]) < PHRASE_SIZE):\n",
    "    VALUE[0].append(type_vocab.getID(PADDING_TOKEN))\n",
    "    VALUE[1].append(value_vocab.getID(PADDING_TOKEN))\n",
    "\n",
    "  articles_tables[KEY] = (VALUE[0], VALUE[1], POSITIONS)\n",
    "\n",
    "print('Loading articles...')\n",
    "\n",
    "for line in readLines('data/clean/article.json', -1):\n",
    "  json_line = json.loads(line)\n",
    "  KEY = json_line['article']\n",
    "  articles_text[KEY] = [token_vocab.getID(x) for x in json_line['data'][0:PHRASE_SIZE]]\n",
    "  # articles_text[KEY] = articles_text[KEY]\n",
    "\n",
    "  while(len(articles_text[KEY]) < PHRASE_SIZE):\n",
    "    articles_text[KEY].append(type_vocab.getID(PADDING_TOKEN))\n",
    "\n",
    "print(\"tables: \", len(articles_tables))\n",
    "print(\"articles: \", len(articles_text))"
   ]
  },
  {
   "cell_type": "code",
   "execution_count": 186,
   "metadata": {},
   "outputs": [
    {
     "name": "stdout",
     "output_type": "stream",
     "text": [
      "pairs:  39261\n",
      "batch size: 10, phrase size: 100\n",
      "input shape:  torch.Size([3, 10, 100])\n",
      "output shape:  torch.Size([10, 100])\n"
     ]
    }
   ],
   "source": [
    "batch = []\n",
    "pairs = []\n",
    "\n",
    "for article in articles_tables:\n",
    "  if(article in articles_text):\n",
    "    a = (articles_tables[article], articles_text[article])\n",
    "    batch.append(a)\n",
    "\n",
    "  if(len(batch) == BATCH_SIZE):\n",
    "    tables = [b[0] for b in batch]\n",
    "    texts = [b[1] for b in batch]\n",
    "\n",
    "    input_tensor = torch.tensor([\n",
    "      # types:\n",
    "      [[t for t in table[0]] for table in tables],\n",
    "      # valus:\n",
    "      [[t for t in table[1]] for table in tables],\n",
    "      # positions:\n",
    "      [[t for t in table[2]] for table in tables]\n",
    "    ], device=device)\n",
    "\n",
    "    target_tensor = torch.tensor([[t for t in text] for text in texts], device=device)\n",
    "\n",
    "    pairs.append((input_tensor, target_tensor))\n",
    "    batch = []\n",
    "\n",
    "print(\"pairs: \", len(pairs))\n",
    "print(f\"batch size: {BATCH_SIZE}, phrase size: {PHRASE_SIZE}\")\n",
    "print(\"input shape: \", pairs[0][0].shape)\n",
    "print(\"output shape: \", pairs[0][1].shape)\n"
   ]
  },
  {
   "cell_type": "markdown",
   "metadata": {},
   "source": [
    "# TRAINING"
   ]
  },
  {
   "cell_type": "code",
   "execution_count": 173,
   "metadata": {},
   "outputs": [],
   "source": [
    "teacher_forcing_ratio = 0.5\n",
    "\n",
    "# NOTE: inputs are (1, BATCH_SIZE)\n",
    "\n",
    "def train(input_tensor, target_tensor, encoder, decoder, encoder_optimizer, decoder_optimizer, criterion):\n",
    "  encoder_hidden = encoder.initHidden()\n",
    "\n",
    "  encoder_optimizer.zero_grad()\n",
    "  decoder_optimizer.zero_grad()\n",
    "\n",
    "  input_length = input_tensor.size(2) # == PHRASE_SIZE\n",
    "  target_length = target_tensor.size(1)\n",
    "\n",
    "  # NOTE: attention\n",
    "  # encoder_outputs = torch.zeros(PHRASE_SIZE, encoder.hidden_size, device=device)\n",
    "\n",
    "  loss = 0\n",
    "\n",
    "  for i in range(input_length):\n",
    "    encoder_output, encoder_hidden = encoder(input_tensor[:,:,i], encoder_hidden)\n",
    "    # NOTE: attention\n",
    "    # encoder_outputs[i] = encoder_output[0, 0]\n",
    "\n",
    "  decoder_input = torch.tensor([[type_vocab.getID(START_TOKEN)] for _ in range(BATCH_SIZE)], device=device)\n",
    "  decoder_input = decoder_input.view(1, BATCH_SIZE)\n",
    "\n",
    "  decoder_hidden = encoder_hidden\n",
    "\n",
    "  use_teacher_forcing = True if random.random() < teacher_forcing_ratio else False\n",
    "  # use_teacher_forcing = True\n",
    "\n",
    "  if use_teacher_forcing:\n",
    "    # Teacher forcing: Feed the target as the next input\n",
    "    for di in range(target_length):\n",
    "      # NOTE: attention\n",
    "      # decoder_output, decoder_hidden, decoder_attention = decoder(decoder_input, decoder_hidden, encoder_outputs)\n",
    "      decoder_output, decoder_hidden = decoder(decoder_input, decoder_hidden)\n",
    "      loss += criterion(decoder_output, target_tensor[:,di])\n",
    "      decoder_input = target_tensor[:, di].view(1, BATCH_SIZE)  # Teacher forcing\n",
    "      \n",
    "  else:\n",
    "    # Without teacher forcing: use its own predictions as the next input\n",
    "    for di in range(target_length):\n",
    "      # NOTE: attention\n",
    "      # decoder_output, decoder_hidden, decoder_attention = decoder(decoder_input, decoder_hidden, encoder_outputs)\n",
    "      decoder_output, decoder_hidden = decoder(decoder_input, decoder_hidden)\n",
    "      topv, topi = decoder_output.topk(1)\n",
    "      decoder_input = topi.squeeze().detach().view(1, BATCH_SIZE)  # detach from history as input\n",
    "\n",
    "      loss += criterion(decoder_output, target_tensor[:,di])\n",
    "      \n",
    "      # FIXME\n",
    "      # if decoder_input.item() == END_TOKEN:\n",
    "      #   break\n",
    "\n",
    "  loss.backward()\n",
    "\n",
    "  encoder_optimizer.step()\n",
    "  decoder_optimizer.step()\n",
    "\n",
    "  return loss.item() / target_length"
   ]
  },
  {
   "cell_type": "code",
   "execution_count": 174,
   "metadata": {},
   "outputs": [],
   "source": [
    "def trainIters(encoder, decoder, n_iters, print_every=1000, plot_every=100, learning_rate=0.01):\n",
    "    start = time.time()\n",
    "    plot_losses = []\n",
    "    print_loss_total = 0  # Reset every print_every\n",
    "    plot_loss_total = 0  # Reset every plot_every\n",
    "\n",
    "    encoder_optimizer = optim.SGD(encoder.parameters(), lr=learning_rate)\n",
    "    decoder_optimizer = optim.SGD(decoder.parameters(), lr=learning_rate)\n",
    "    training_pairs = [random.choice(pairs) for i in range(n_iters)]\n",
    "    criterion = nn.NLLLoss()\n",
    "\n",
    "    for iter in range(1, n_iters + 1):\n",
    "        training_pair = training_pairs[iter - 1]\n",
    "        input_tensor = training_pair[0]\n",
    "        target_tensor = training_pair[1]\n",
    "\n",
    "        loss = train(input_tensor, target_tensor, encoder, decoder, encoder_optimizer, decoder_optimizer, criterion)\n",
    "        print_loss_total += loss\n",
    "        plot_loss_total += loss\n",
    "\n",
    "        if iter % print_every == 0:\n",
    "            print_loss_avg = print_loss_total / print_every\n",
    "            print_loss_total = 0\n",
    "            print('%s (%d %d%%) %.4f' % (timeSince(start, iter / n_iters),\n",
    "                                         iter, iter / n_iters * 100, print_loss_avg))\n",
    "\n",
    "        if iter % plot_every == 0:\n",
    "            plot_loss_avg = plot_loss_total / plot_every\n",
    "            plot_losses.append(plot_loss_avg)\n",
    "            plot_loss_total = 0\n"
   ]
  },
  {
   "cell_type": "code",
   "execution_count": 190,
   "metadata": {},
   "outputs": [
    {
     "name": "stdout",
     "output_type": "stream",
     "text": [
      "0m 3s (- 1m 11s) (10 5%) 9.6993\n",
      "0m 7s (- 1m 7s) (20 10%) 16.3831\n",
      "0m 11s (- 1m 3s) (30 15%) 20.3025\n",
      "0m 14s (- 0m 59s) (40 20%) 18.3822\n",
      "0m 18s (- 0m 55s) (50 25%) 16.6830\n",
      "0m 22s (- 0m 51s) (60 30%) 19.9878\n",
      "0m 25s (- 0m 47s) (70 35%) 22.6252\n",
      "0m 29s (- 0m 44s) (80 40%) 21.8464\n",
      "0m 33s (- 0m 40s) (90 45%) 21.3387\n",
      "0m 36s (- 0m 36s) (100 50%) 20.0559\n",
      "0m 40s (- 0m 33s) (110 55%) 18.6143\n",
      "0m 44s (- 0m 29s) (120 60%) 18.4161\n",
      "0m 47s (- 0m 25s) (130 65%) 18.0640\n",
      "0m 51s (- 0m 22s) (140 70%) 19.8498\n",
      "0m 55s (- 0m 18s) (150 75%) 16.6035\n",
      "0m 58s (- 0m 14s) (160 80%) 16.0977\n",
      "1m 2s (- 0m 10s) (170 85%) 21.4741\n",
      "1m 5s (- 0m 7s) (180 90%) 18.3839\n",
      "1m 9s (- 0m 3s) (190 95%) 20.0949\n",
      "1m 13s (- 0m 0s) (200 100%) 23.2726\n"
     ]
    }
   ],
   "source": [
    "\n",
    "encoder = EncoderRNN(type_vocab, value_vocab, 256, 128).to(device)\n",
    "decoder = DecoderRNN(256, len(token_vocab)).to(device)\n",
    "\n",
    "trainIters(encoder, decoder, 200, print_every=10, plot_every=1)"
   ]
  }
 ],
 "metadata": {
  "kernelspec": {
   "display_name": "Python 3.9.12 ('base')",
   "language": "python",
   "name": "python3"
  },
  "language_info": {
   "codemirror_mode": {
    "name": "ipython",
    "version": 3
   },
   "file_extension": ".py",
   "mimetype": "text/x-python",
   "name": "python",
   "nbconvert_exporter": "python",
   "pygments_lexer": "ipython3",
   "version": "3.9.12"
  },
  "orig_nbformat": 4,
  "vscode": {
   "interpreter": {
    "hash": "cf21a6fff9624ce691a4fad43c68540179d36da31fc4f80138ac9dffe05c7a89"
   }
  }
 },
 "nbformat": 4,
 "nbformat_minor": 2
}
