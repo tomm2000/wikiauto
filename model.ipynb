{
 "cells": [
  {
   "cell_type": "code",
   "execution_count": 233,
   "metadata": {},
   "outputs": [],
   "source": [
    "from __future__ import unicode_literals, print_function, division\n",
    "from vocab import vocab, END_TOKEN, START_TOKEN, PADDING_TOKEN, UNKNOWN_TOKEN\n",
    "from helpers import readLines\n",
    "\n",
    "type_vocab = vocab('data/counts/types.txt')\n",
    "value_vocab = vocab('data/counts/values.txt')\n",
    "token_vocab = vocab('data/counts/tokens.txt')\n",
    "\n",
    "PHRASE_SIZE = 30\n",
    "BATCH_SIZE = 5"
   ]
  },
  {
   "cell_type": "code",
   "execution_count": 234,
   "metadata": {},
   "outputs": [],
   "source": [
    "import torch\n",
    "import torch.nn as nn\n",
    "from torch import optim\n",
    "import torch.nn.functional as F\n",
    "import random\n",
    "import json\n",
    "\n",
    "# device = torch.device(\"cuda\" if torch.cuda.is_available() else \"cpu\")\n",
    "device = \"cpu\""
   ]
  },
  {
   "cell_type": "markdown",
   "metadata": {},
   "source": [
    "# ENCODER"
   ]
  },
  {
   "cell_type": "code",
   "execution_count": 235,
   "metadata": {},
   "outputs": [],
   "source": [
    "class EncoderRNN(nn.Module):\n",
    "  def __init__(self, type_vocab, value_vocab, hidden_size, embedding_size):\n",
    "    super(EncoderRNN, self).__init__()\n",
    "    self.hidden_size = hidden_size\n",
    "\n",
    "    self.typeEmbedding = nn.Embedding(len(type_vocab), embedding_size, device=device)\n",
    "    self.valueEmbedding = nn.Embedding(len(value_vocab), embedding_size, device=device)\n",
    "    self.positionEmbedding = nn.Embedding(PHRASE_SIZE, 10, device=device)\n",
    "    \n",
    "    self.gru = nn.GRU(embedding_size * 2 + 10, self.hidden_size)\n",
    "\n",
    "  def forward(self, inputs, hidden):\n",
    "    E_type_out = self.typeEmbedding(inputs[0])\n",
    "    E_value_out = self.valueEmbedding(inputs[1])\n",
    "    E_pos_out = self.positionEmbedding(inputs[2])\n",
    "\n",
    "    output = torch.cat((E_type_out, E_pos_out, E_value_out), dim=1).view(1, BATCH_SIZE, -1)\n",
    "\n",
    "    output, hidden = self.gru(output, hidden)\n",
    "    return output, hidden\n",
    "\n",
    "  def initHidden(self):\n",
    "    return torch.zeros(1, BATCH_SIZE, self.hidden_size, device=device)"
   ]
  },
  {
   "cell_type": "markdown",
   "metadata": {},
   "source": [
    "# DECODER"
   ]
  },
  {
   "cell_type": "code",
   "execution_count": 236,
   "metadata": {},
   "outputs": [],
   "source": [
    "class DecoderRNN(nn.Module):\n",
    "  def __init__(self, hidden_size, output_size):\n",
    "    super(DecoderRNN, self).__init__()\n",
    "    self.hidden_size = hidden_size\n",
    "\n",
    "    self.embedding = nn.Embedding(output_size, hidden_size)\n",
    "    self.gru = nn.GRU(hidden_size, hidden_size)\n",
    "    self.out = nn.Linear(hidden_size, output_size)\n",
    "    self.softmax = nn.LogSoftmax(dim=1)\n",
    "\n",
    "  def forward(self, input, hidden):\n",
    "    output = self.embedding(input)\n",
    "    output = F.relu(output)\n",
    "    output, hidden = self.gru(output, hidden)\n",
    "    output = self.softmax(self.out(output[0]))\n",
    "    return output, hidden\n",
    "\n",
    "  def initHidden(self):\n",
    "    return torch.zeros(1, 1, self.hidden_size, device=device)"
   ]
  },
  {
   "cell_type": "markdown",
   "metadata": {},
   "source": [
    "# TRAINING"
   ]
  },
  {
   "cell_type": "code",
   "execution_count": 237,
   "metadata": {},
   "outputs": [],
   "source": [
    "teacher_forcing_ratio = 0.5\n",
    "\n",
    "\n",
    "def train(input_tensor, target_tensor, encoder, decoder, encoder_optimizer, decoder_optimizer, criterion):\n",
    "  encoder_hidden = encoder.initHidden()\n",
    "\n",
    "  encoder_optimizer.zero_grad()\n",
    "  decoder_optimizer.zero_grad()\n",
    "\n",
    "  input_length = input_tensor.size(0)\n",
    "  target_length = target_tensor.size(0)\n",
    "\n",
    "  # attention\n",
    "  # encoder_outputs = torch.zeros(PHRASE_SIZE, encoder.hidden_size, device=device)\n",
    "\n",
    "  loss = 0\n",
    "\n",
    "  for ei in range(input_length):\n",
    "    encoder_output, encoder_hidden = encoder(input_tensor[ei], encoder_hidden)\n",
    "    # attention\n",
    "    # encoder_outputs[ei] = encoder_output[0, 0]\n",
    "\n",
    "  decoder_input = torch.tensor([[type_vocab.getID(START_TOKEN)] * BATCH_SIZE], device=device)\n",
    "\n",
    "  decoder_hidden = encoder_hidden\n",
    "\n",
    "  use_teacher_forcing = True if random.random() < teacher_forcing_ratio else False\n",
    "\n",
    "  if use_teacher_forcing:\n",
    "    # Teacher forcing: Feed the target as the next input\n",
    "    for di in range(target_length):\n",
    "      # attention\n",
    "      # decoder_output, decoder_hidden, decoder_attention = decoder(decoder_input, decoder_hidden, encoder_outputs)\n",
    "      decoder_output, decoder_hidden = decoder(decoder_input, decoder_hidden)\n",
    "      loss += criterion(decoder_output, target_tensor[di])\n",
    "      decoder_input = target_tensor[di]  # Teacher forcing\n",
    "\n",
    "  else:\n",
    "    # Without teacher forcing: use its own predictions as the next input\n",
    "    for di in range(target_length):\n",
    "      # attention\n",
    "      # decoder_output, decoder_hidden, decoder_attention = decoder(decoder_input, decoder_hidden, encoder_outputs)\n",
    "      decoder_output, decoder_hidden = decoder(decoder_input, decoder_hidden)\n",
    "      topv, topi = decoder_output.topk(1)\n",
    "      decoder_input = topi.squeeze().detach()  # detach from history as input\n",
    "\n",
    "      loss += criterion(decoder_output, target_tensor[di])\n",
    "      if decoder_input.item() == END_TOKEN:\n",
    "        break\n",
    "\n",
    "  loss.backward()\n",
    "\n",
    "  encoder_optimizer.step()\n",
    "  decoder_optimizer.step()\n",
    "\n",
    "  return loss.item() / target_length"
   ]
  },
  {
   "cell_type": "markdown",
   "metadata": {},
   "source": [
    "# TIMING"
   ]
  },
  {
   "cell_type": "code",
   "execution_count": 238,
   "metadata": {},
   "outputs": [],
   "source": [
    "import time\n",
    "import math\n",
    "\n",
    "\n",
    "def asMinutes(s):\n",
    "  m = math.floor(s / 60)\n",
    "  s -= m * 60\n",
    "  return '%dm %ds' % (m, s)\n",
    "\n",
    "\n",
    "def timeSince(since, percent):\n",
    "  now = time.time()\n",
    "  s = now - since\n",
    "  es = s / (percent)\n",
    "  rs = es - s\n",
    "  return '%s (- %s)' % (asMinutes(s), asMinutes(rs))"
   ]
  },
  {
   "cell_type": "markdown",
   "metadata": {},
   "source": [
    "# INPUT"
   ]
  },
  {
   "cell_type": "code",
   "execution_count": 254,
   "metadata": {},
   "outputs": [
    {
     "name": "stdout",
     "output_type": "stream",
     "text": [
      "Loading tables...\n",
      "Loading articles...\n",
      "883980\n",
      "394175\n"
     ]
    }
   ],
   "source": [
    "# TODO: add infobox\n",
    "\n",
    "articles_tables = {}\n",
    "articles_text = {}\n",
    "pairs = {}\n",
    "\n",
    "POSITIONS = [i for i in range(PHRASE_SIZE)]\n",
    "\n",
    "print('Loading tables...')\n",
    "\n",
    "for line in readLines('data/clean/wikidata.json', -1):\n",
    "  json_line = json.loads(line)\n",
    "  KEY = json_line['article']\n",
    "  # line = {'article': TEXT, 'data': {'type': [values, ...]}}\n",
    "  \n",
    "  VALUE = ( [], [] )\n",
    "  i = 0\n",
    "  for type in json_line['data']:\n",
    "    for value in json_line['data'][type]:\n",
    "      if i >= PHRASE_SIZE:\n",
    "        break\n",
    "      VALUE[0].append(type_vocab.getID(type))\n",
    "      VALUE[1].append(value_vocab.getID(value))\n",
    "      i += 1\n",
    "\n",
    "  while(len(VALUE[0]) < PHRASE_SIZE):\n",
    "    VALUE[0].append(type_vocab.getID(PADDING_TOKEN))\n",
    "    VALUE[1].append(value_vocab.getID(PADDING_TOKEN))\n",
    "\n",
    "  articles_tables[KEY] = (VALUE[0], VALUE[1], POSITIONS)\n",
    "\n",
    "print('Loading articles...')\n",
    "\n",
    "for line in readLines('data/clean/article.json', -1):\n",
    "  json_line = json.loads(line)\n",
    "  KEY = json_line['article']\n",
    "  articles_text[KEY] = [token_vocab.getID(x) for x in json_line['data'][0:PHRASE_SIZE]]\n",
    "  # articles_text[KEY] = articles_text[KEY]\n",
    "\n",
    "  while(len(articles_text[KEY]) < PHRASE_SIZE):\n",
    "    articles_text[KEY].append(type_vocab.getID(PADDING_TOKEN))\n",
    "\n",
    "print(\"tables: \", len(articles_tables))\n",
    "print(\"articles: \", len(articles_text))"
   ]
  },
  {
   "cell_type": "code",
   "execution_count": 255,
   "metadata": {},
   "outputs": [
    {
     "name": "stdout",
     "output_type": "stream",
     "text": [
      "78523\n"
     ]
    }
   ],
   "source": [
    "batch = []\n",
    "pairs = []\n",
    "\n",
    "for article in articles_tables:\n",
    "  if(article in articles_text):\n",
    "    a = (articles_tables[article], articles_text[article])\n",
    "    batch.append(a)\n",
    "\n",
    "  if(len(batch) == BATCH_SIZE):\n",
    "    tables = [b[0] for b in batch]\n",
    "    texts = [b[1] for b in batch]\n",
    "\n",
    "    input_tensor = torch.tensor([\n",
    "      # types:\n",
    "      [[t for t in table[0]] for table in tables],\n",
    "      # valus:\n",
    "      [[t for t in table[1]] for table in tables],\n",
    "      # positions:\n",
    "      [[t for t in table[2]] for table in tables]\n",
    "    ])\n",
    "\n",
    "    target_tensor = torch.tensor([[t for t in text] for text in texts])\n",
    "\n",
    "    pairs.append((input_tensor, target_tensor))\n",
    "    batch = []\n",
    "\n",
    "print(len(pairs))"
   ]
  },
  {
   "cell_type": "markdown",
   "metadata": {},
   "source": [
    "# TRAIN ITERATIONS"
   ]
  },
  {
   "cell_type": "code",
   "execution_count": 241,
   "metadata": {},
   "outputs": [
    {
     "ename": "NameError",
     "evalue": "name 'encoder' is not defined",
     "output_type": "error",
     "traceback": [
      "\u001b[1;31m---------------------------------------------------------------------------\u001b[0m",
      "\u001b[1;31mNameError\u001b[0m                                 Traceback (most recent call last)",
      "\u001b[1;32mc:\\Users\\tomma\\PROGRAMMING_C\\PYTORCH\\wikiauto3\\model.ipynb Cell 15\u001b[0m in \u001b[0;36m<cell line: 47>\u001b[1;34m()\u001b[0m\n\u001b[0;32m     <a href='vscode-notebook-cell:/c%3A/Users/tomma/PROGRAMMING_C/PYTORCH/wikiauto3/model.ipynb#X20sZmlsZQ%3D%3D?line=43'>44</a>\u001b[0m             plot_losses\u001b[39m.\u001b[39mappend(plot_loss_avg)\n\u001b[0;32m     <a href='vscode-notebook-cell:/c%3A/Users/tomma/PROGRAMMING_C/PYTORCH/wikiauto3/model.ipynb#X20sZmlsZQ%3D%3D?line=44'>45</a>\u001b[0m             plot_loss_total \u001b[39m=\u001b[39m \u001b[39m0\u001b[39m\n\u001b[1;32m---> <a href='vscode-notebook-cell:/c%3A/Users/tomma/PROGRAMMING_C/PYTORCH/wikiauto3/model.ipynb#X20sZmlsZQ%3D%3D?line=46'>47</a>\u001b[0m trainIters(encoder, decoder, \u001b[39m1\u001b[39m, print_every\u001b[39m=\u001b[39m\u001b[39m1\u001b[39m, plot_every\u001b[39m=\u001b[39m\u001b[39m1\u001b[39m)\n",
      "\u001b[1;31mNameError\u001b[0m: name 'encoder' is not defined"
     ]
    }
   ],
   "source": [
    "# pair = [[[type, value], [type, value]], [text, text, text, text]]\n",
    "def tensorsFromPair(pair):\n",
    "  input_tensor = torch.tensor(pair[0][0:PHRASE_SIZE], device=device)\n",
    "  target_tensor = torch.tensor(pair[1][0:PHRASE_SIZE], device=device)\n",
    "\n",
    "  print(input_tensor.shape)\n",
    "  print(target_tensor.shape)\n",
    "\n",
    "  return (input_tensor, target_tensor)\n",
    "\n",
    "\n",
    "def trainIters(encoder, decoder, n_iters, print_every=1000, plot_every=100, learning_rate=0.01):\n",
    "    start = time.time()\n",
    "    plot_losses = []\n",
    "    print_loss_total = 0  # Reset every print_every\n",
    "    plot_loss_total = 0  # Reset every plot_every\n",
    "    \n",
    "    pairs = buildPairs(type_vocab, value_vocab, text_vocab, 10000)\n",
    "\n",
    "    print(len(pairs))\n",
    "\n",
    "    encoder_optimizer = optim.SGD(encoder.parameters(), lr=learning_rate)\n",
    "    decoder_optimizer = optim.SGD(decoder.parameters(), lr=learning_rate)\n",
    "    training_pairs = [tensorsFromPair(random.choice(pairs)) for i in range(n_iters)]\n",
    "    criterion = nn.NLLLoss()\n",
    "\n",
    "    for iter in range(1, n_iters + 1):\n",
    "        training_pair = training_pairs[iter - 1]\n",
    "        input_tensor = training_pair[0]\n",
    "        target_tensor = training_pair[1]\n",
    "\n",
    "        loss = train(input_tensor, target_tensor, encoder, decoder, encoder_optimizer, decoder_optimizer, criterion)\n",
    "        print_loss_total += loss\n",
    "        plot_loss_total += loss\n",
    "\n",
    "        if iter % print_every == 0:\n",
    "            print_loss_avg = print_loss_total / print_every\n",
    "            print_loss_total = 0\n",
    "            print('%s (%d %d%%) %.4f' % (timeSince(start, iter / n_iters),\n",
    "                                         iter, iter / n_iters * 100, print_loss_avg))\n",
    "\n",
    "        if iter % plot_every == 0:\n",
    "            plot_loss_avg = plot_loss_total / plot_every\n",
    "            plot_losses.append(plot_loss_avg)\n",
    "            plot_loss_total = 0\n",
    "\n",
    "trainIters(encoder, decoder, 1, print_every=1, plot_every=1)"
   ]
  }
 ],
 "metadata": {
  "kernelspec": {
   "display_name": "Python 3.9.12 ('base')",
   "language": "python",
   "name": "python3"
  },
  "language_info": {
   "codemirror_mode": {
    "name": "ipython",
    "version": 3
   },
   "file_extension": ".py",
   "mimetype": "text/x-python",
   "name": "python",
   "nbconvert_exporter": "python",
   "pygments_lexer": "ipython3",
   "version": "3.9.12"
  },
  "orig_nbformat": 4,
  "vscode": {
   "interpreter": {
    "hash": "cf21a6fff9624ce691a4fad43c68540179d36da31fc4f80138ac9dffe05c7a89"
   }
  }
 },
 "nbformat": 4,
 "nbformat_minor": 2
}
