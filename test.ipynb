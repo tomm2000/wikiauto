{
 "cells": [
  {
   "cell_type": "code",
   "execution_count": 1,
   "metadata": {},
   "outputs": [
    {
     "data": {
      "text/plain": [
       "<Figure size 432x288 with 0 Axes>"
      ]
     },
     "metadata": {},
     "output_type": "display_data"
    },
    {
     "data": {
      "image/png": "[encoded data removed]",
      "text/plain": [
       "<Figure size 432x288 with 2 Axes>"
      ]
     },
     "metadata": {
      "needs_background": "light"
     },
     "output_type": "display_data"
    }
   ],
   "source": [
    "import random\n",
    "import matplotlib.pyplot as plt\n",
    "import matplotlib.ticker as ticker\n",
    "\n",
    "points1 = [((k/10)*(k/10)) for k in range(100)]\n",
    "points2 = [((k/10)*(k/10)*(k/10)) for k in range(10)]\n",
    "\n",
    "plt.figure()\n",
    "fig, ax = plt.subplots(nrows=2, ncols=1)\n",
    "# this locator puts ticks at regular intervals\n",
    "\n",
    "# ax.set_facecolor('pink')\n",
    "ax[0].plot(points1)\n",
    "ax[1].plot(points2)\n",
    "\n",
    "plt.show()"
   ]
  },
  {
   "cell_type": "code",
   "execution_count": 7,
   "metadata": {},
   "outputs": [
    {
     "name": "stdout",
     "output_type": "stream",
     "text": [
      "[tensor([1, 2, 3]), tensor([1, 2, 3])]\n"
     ]
    }
   ],
   "source": [
    "from torch import nn\n",
    "import torch\n",
    "\n",
    "test = [\n",
    "  torch.tensor([1, 2, 3, 4, 5, 6, 7, 8, 9, 10]),\n",
    "  torch.tensor([1, 2, 3, 4, 5, 6, 7, 8, 9, 10])\n",
    "]\n",
    "\n",
    "print([t[0:3] for t in test])\n",
    "\n",
    "# indexes = torch.randperm(test[0].size(0))\n",
    "\n",
    "# indexes = torch.tensor([0, 1, 2, 3, 4, 5, 6, 7, 8, 9])\n",
    "\n",
    "# print(indexes)\n",
    "\n",
    "# test = [t[indexes][2:4] for t in test]\n",
    "\n",
    "# print(test)"
   ]
  },
  {
   "cell_type": "code",
   "execution_count": 1,
   "metadata": {},
   "outputs": [],
   "source": [
    "from helpers.helpers import loadEpochData, saveEpochData\n",
    "\n",
    "\n",
    "# saveEpochData(\"data/epochs/test.epoch\", 10, [1, 3, 4, 5, 5], [1, 3, 4, 5], [1, 3, 4, 5], [1, 3, 4, 5], [1, 3, 4, 5])\n",
    "\n",
    "# data = loadEpochData(\"data/epochs/test.epoch\")\n",
    "\n",
    "# print(data)\n",
    "\n",
    "saveEpochData(\n",
    "  test_name=\"test\",\n",
    "  epoch=10,\n",
    "  iter_losses=[1, 3, 4, 5, 5],\n",
    "  train_losses=[1, 3, 4, 5],\n",
    "  eval_losses=[1, 3, 4, 5],\n",
    "  train_perplexity=[1, 3, 4, 5],\n",
    "  eval_perplexity=[1, 3, 4, 5],\n",
    "  batch_size=10,\n",
    "  hidden_size=10,\n",
    "  embedding_size=10,\n",
    "  vocab_size=10,\n",
    "  encoder_input_size=10\n",
    ")"
   ]
  },
  {
   "cell_type": "markdown",
   "metadata": {},
   "source": [
    "=TRIM(MID(SUBSTITUTE($A$1, \":\",REPT(\" \",LEN($A$1))),(1-1)*LEN($A$1)+1,LEN($A$1)))+=TRIM(MID(SUBSTITUTE($A$2, \":\",REPT(\" \",LEN($A$2))),(1-1)*LEN($A$2)+1,LEN($A$2)))"
   ]
  }
 ],
 "metadata": {
  "kernelspec": {
   "display_name": "Python 3.9.12 ('base')",
   "language": "python",
   "name": "python3"
  },
  "language_info": {
   "codemirror_mode": {
    "name": "ipython",
    "version": 3
   },
   "file_extension": ".py",
   "mimetype": "text/x-python",
   "name": "python",
   "nbconvert_exporter": "python",
   "pygments_lexer": "ipython3",
   "version": "3.9.12"
  },
  "orig_nbformat": 4,
  "vscode": {
   "interpreter": {
    "hash": "cf21a6fff9624ce691a4fad43c68540179d36da31fc4f80138ac9dffe05c7a89"
   }
  }
 },
 "nbformat": 4,
 "nbformat_minor": 2
}
